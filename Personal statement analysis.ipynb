{
 "cells": [
  {
   "cell_type": "code",
   "execution_count": 1,
   "id": "94170be7",
   "metadata": {},
   "outputs": [],
   "source": [
    "import pandas as pd\n",
    "import numpy as np"
   ]
  },
  {
   "cell_type": "code",
   "execution_count": 2,
   "id": "d555b2cd",
   "metadata": {},
   "outputs": [
    {
     "data": {
      "text/html": [
       "<div>\n",
       "<style scoped>\n",
       "    .dataframe tbody tr th:only-of-type {\n",
       "        vertical-align: middle;\n",
       "    }\n",
       "\n",
       "    .dataframe tbody tr th {\n",
       "        vertical-align: top;\n",
       "    }\n",
       "\n",
       "    .dataframe thead th {\n",
       "        text-align: right;\n",
       "    }\n",
       "</style>\n",
       "<table border=\"1\" class=\"dataframe\">\n",
       "  <thead>\n",
       "    <tr style=\"text-align: right;\">\n",
       "      <th></th>\n",
       "      <th>Unnamed: 0</th>\n",
       "      <th>studentID</th>\n",
       "      <th>personal_statement</th>\n",
       "      <th>award_name</th>\n",
       "      <th>award_classification</th>\n",
       "    </tr>\n",
       "  </thead>\n",
       "  <tbody>\n",
       "    <tr>\n",
       "      <th>0</th>\n",
       "      <td>0</td>\n",
       "      <td>130012955</td>\n",
       "      <td>In the UK, 1 in 5 people will suffer from depr...</td>\n",
       "      <td>Diploma of Higher Education (Medical Science)</td>\n",
       "      <td>PASS</td>\n",
       "    </tr>\n",
       "    <tr>\n",
       "      <th>1</th>\n",
       "      <td>1</td>\n",
       "      <td>170002792</td>\n",
       "      <td>It was an intriguing thought, that a stranger ...</td>\n",
       "      <td>Master of Science</td>\n",
       "      <td>DIST</td>\n",
       "    </tr>\n",
       "    <tr>\n",
       "      <th>2</th>\n",
       "      <td>2</td>\n",
       "      <td>170002792</td>\n",
       "      <td>It was an intriguing thought, that a stranger ...</td>\n",
       "      <td>Master of Science</td>\n",
       "      <td>DIST</td>\n",
       "    </tr>\n",
       "    <tr>\n",
       "      <th>3</th>\n",
       "      <td>3</td>\n",
       "      <td>170002792</td>\n",
       "      <td>It was an intriguing thought, that a stranger ...</td>\n",
       "      <td>Master of Science</td>\n",
       "      <td>DIST</td>\n",
       "    </tr>\n",
       "    <tr>\n",
       "      <th>4</th>\n",
       "      <td>4</td>\n",
       "      <td>170007122</td>\n",
       "      <td>When I was 7 years old, I visited Professor Gu...</td>\n",
       "      <td>Master of Science</td>\n",
       "      <td>DIST</td>\n",
       "    </tr>\n",
       "    <tr>\n",
       "      <th>5</th>\n",
       "      <td>5</td>\n",
       "      <td>170008749</td>\n",
       "      <td>Medicine appealed to me, as it combines my int...</td>\n",
       "      <td>Master of Science</td>\n",
       "      <td>MERIT</td>\n",
       "    </tr>\n",
       "    <tr>\n",
       "      <th>6</th>\n",
       "      <td>6</td>\n",
       "      <td>170011945</td>\n",
       "      <td>I want to be a doctor to help people through p...</td>\n",
       "      <td>Master of Science</td>\n",
       "      <td>MERIT</td>\n",
       "    </tr>\n",
       "    <tr>\n",
       "      <th>7</th>\n",
       "      <td>7</td>\n",
       "      <td>170012676</td>\n",
       "      <td>From the early stages of my dental training I ...</td>\n",
       "      <td>Bachelor of Medicine and Bachelor of Surgery w...</td>\n",
       "      <td>HONS</td>\n",
       "    </tr>\n",
       "    <tr>\n",
       "      <th>8</th>\n",
       "      <td>8</td>\n",
       "      <td>19969003</td>\n",
       "      <td>-</td>\n",
       "      <td>Record of achievement</td>\n",
       "      <td>CRPASS</td>\n",
       "    </tr>\n",
       "    <tr>\n",
       "      <th>9</th>\n",
       "      <td>9</td>\n",
       "      <td>199921636</td>\n",
       "      <td>I am applying for the learning disability nurs...</td>\n",
       "      <td>Bachelor of Science with Honours</td>\n",
       "      <td>FIRST</td>\n",
       "    </tr>\n",
       "    <tr>\n",
       "      <th>10</th>\n",
       "      <td>10</td>\n",
       "      <td>199921636</td>\n",
       "      <td>I am applying for the learning disability nurs...</td>\n",
       "      <td>Bachelor of Science with Honours</td>\n",
       "      <td>FIRST</td>\n",
       "    </tr>\n",
       "    <tr>\n",
       "      <th>11</th>\n",
       "      <td>11</td>\n",
       "      <td>199922311</td>\n",
       "      <td>I want to teach because I want to share my lov...</td>\n",
       "      <td>Record of achievement</td>\n",
       "      <td>CRPASS</td>\n",
       "    </tr>\n",
       "    <tr>\n",
       "      <th>12</th>\n",
       "      <td>12</td>\n",
       "      <td>199926834</td>\n",
       "      <td>Why I am applying for adult nursing: Working i...</td>\n",
       "      <td>Record of achievement</td>\n",
       "      <td>CRPASS</td>\n",
       "    </tr>\n",
       "    <tr>\n",
       "      <th>13</th>\n",
       "      <td>13</td>\n",
       "      <td>200030551</td>\n",
       "      <td>I wish to apply to university this year as I w...</td>\n",
       "      <td>Bachelor of Arts with Honours</td>\n",
       "      <td>FIRST</td>\n",
       "    </tr>\n",
       "    <tr>\n",
       "      <th>14</th>\n",
       "      <td>14</td>\n",
       "      <td>200032770</td>\n",
       "      <td>I have always had a strong desire to help othe...</td>\n",
       "      <td>Postgraduate Certificate</td>\n",
       "      <td>PASS</td>\n",
       "    </tr>\n",
       "    <tr>\n",
       "      <th>15</th>\n",
       "      <td>15</td>\n",
       "      <td>200127457</td>\n",
       "      <td>I have worked in mainstream and special educat...</td>\n",
       "      <td>Bachelor of Arts with Honours</td>\n",
       "      <td>FIRST</td>\n",
       "    </tr>\n",
       "    <tr>\n",
       "      <th>16</th>\n",
       "      <td>16</td>\n",
       "      <td>200200708</td>\n",
       "      <td>At approximately six years old I remember sitt...</td>\n",
       "      <td>Bachelor of Arts with Honours</td>\n",
       "      <td>FIRST</td>\n",
       "    </tr>\n",
       "    <tr>\n",
       "      <th>17</th>\n",
       "      <td>17</td>\n",
       "      <td>200200788</td>\n",
       "      <td>When I left school in 1994, I knew I wanted a ...</td>\n",
       "      <td>University Certificate</td>\n",
       "      <td>PASS</td>\n",
       "    </tr>\n",
       "    <tr>\n",
       "      <th>18</th>\n",
       "      <td>18</td>\n",
       "      <td>200200788</td>\n",
       "      <td>When I left school in 1994, I knew I wanted a ...</td>\n",
       "      <td>Bachelor of Science with Honours</td>\n",
       "      <td>2:1</td>\n",
       "    </tr>\n",
       "    <tr>\n",
       "      <th>19</th>\n",
       "      <td>19</td>\n",
       "      <td>200200788</td>\n",
       "      <td>When I left school in 1994, I knew I wanted a ...</td>\n",
       "      <td>University Certificate</td>\n",
       "      <td>PASS</td>\n",
       "    </tr>\n",
       "    <tr>\n",
       "      <th>20</th>\n",
       "      <td>20</td>\n",
       "      <td>200200788</td>\n",
       "      <td>When I left school in 1994, I knew I wanted a ...</td>\n",
       "      <td>Bachelor of Science with Honours</td>\n",
       "      <td>2:1</td>\n",
       "    </tr>\n",
       "    <tr>\n",
       "      <th>21</th>\n",
       "      <td>21</td>\n",
       "      <td>200200848</td>\n",
       "      <td>Teaching has always been my career goal. I hav...</td>\n",
       "      <td>Postgraduate Certificate in Education</td>\n",
       "      <td>PASS</td>\n",
       "    </tr>\n",
       "    <tr>\n",
       "      <th>22</th>\n",
       "      <td>22</td>\n",
       "      <td>200304410</td>\n",
       "      <td>PERSONAL STATEMENT OF LEARNING DISABILITY NURS...</td>\n",
       "      <td>Master of Arts</td>\n",
       "      <td>PASS</td>\n",
       "    </tr>\n",
       "    <tr>\n",
       "      <th>23</th>\n",
       "      <td>23</td>\n",
       "      <td>200304410</td>\n",
       "      <td>PERSONAL STATEMENT OF LEARNING DISABILITY NURS...</td>\n",
       "      <td>Master of Arts</td>\n",
       "      <td>PASS</td>\n",
       "    </tr>\n",
       "    <tr>\n",
       "      <th>24</th>\n",
       "      <td>24</td>\n",
       "      <td>200304410</td>\n",
       "      <td>PERSONAL STATEMENT OF LEARNING DISABILITY NURS...</td>\n",
       "      <td>Master of Arts</td>\n",
       "      <td>PASS</td>\n",
       "    </tr>\n",
       "    <tr>\n",
       "      <th>25</th>\n",
       "      <td>25</td>\n",
       "      <td>200304410</td>\n",
       "      <td>PERSONAL STATEMENT OF LEARNING DISABILITY NURS...</td>\n",
       "      <td>Master of Arts</td>\n",
       "      <td>PASS</td>\n",
       "    </tr>\n",
       "    <tr>\n",
       "      <th>26</th>\n",
       "      <td>26</td>\n",
       "      <td>200304410</td>\n",
       "      <td>PERSONAL STATEMENT OF LEARNING DISABILITY NURS...</td>\n",
       "      <td>Master of Arts</td>\n",
       "      <td>PASS</td>\n",
       "    </tr>\n",
       "    <tr>\n",
       "      <th>27</th>\n",
       "      <td>27</td>\n",
       "      <td>200304410</td>\n",
       "      <td>PERSONAL STATEMENT OF LEARNING DISABILITY NURS...</td>\n",
       "      <td>Master of Arts</td>\n",
       "      <td>PASS</td>\n",
       "    </tr>\n",
       "    <tr>\n",
       "      <th>28</th>\n",
       "      <td>28</td>\n",
       "      <td>200401637</td>\n",
       "      <td>The miracle that is pregnancy, creating a bran...</td>\n",
       "      <td>Foundation Degree in Science</td>\n",
       "      <td>DIST</td>\n",
       "    </tr>\n",
       "    <tr>\n",
       "      <th>29</th>\n",
       "      <td>29</td>\n",
       "      <td>200503234</td>\n",
       "      <td>I would like to be considered as a candidate t...</td>\n",
       "      <td>University Certificate</td>\n",
       "      <td>PASS</td>\n",
       "    </tr>\n",
       "  </tbody>\n",
       "</table>\n",
       "</div>"
      ],
      "text/plain": [
       "    Unnamed: 0  studentID                                 personal_statement  \\\n",
       "0            0  130012955  In the UK, 1 in 5 people will suffer from depr...   \n",
       "1            1  170002792  It was an intriguing thought, that a stranger ...   \n",
       "2            2  170002792  It was an intriguing thought, that a stranger ...   \n",
       "3            3  170002792  It was an intriguing thought, that a stranger ...   \n",
       "4            4  170007122  When I was 7 years old, I visited Professor Gu...   \n",
       "5            5  170008749  Medicine appealed to me, as it combines my int...   \n",
       "6            6  170011945  I want to be a doctor to help people through p...   \n",
       "7            7  170012676  From the early stages of my dental training I ...   \n",
       "8            8   19969003                                                  -   \n",
       "9            9  199921636  I am applying for the learning disability nurs...   \n",
       "10          10  199921636  I am applying for the learning disability nurs...   \n",
       "11          11  199922311  I want to teach because I want to share my lov...   \n",
       "12          12  199926834  Why I am applying for adult nursing: Working i...   \n",
       "13          13  200030551  I wish to apply to university this year as I w...   \n",
       "14          14  200032770  I have always had a strong desire to help othe...   \n",
       "15          15  200127457  I have worked in mainstream and special educat...   \n",
       "16          16  200200708  At approximately six years old I remember sitt...   \n",
       "17          17  200200788  When I left school in 1994, I knew I wanted a ...   \n",
       "18          18  200200788  When I left school in 1994, I knew I wanted a ...   \n",
       "19          19  200200788  When I left school in 1994, I knew I wanted a ...   \n",
       "20          20  200200788  When I left school in 1994, I knew I wanted a ...   \n",
       "21          21  200200848  Teaching has always been my career goal. I hav...   \n",
       "22          22  200304410  PERSONAL STATEMENT OF LEARNING DISABILITY NURS...   \n",
       "23          23  200304410  PERSONAL STATEMENT OF LEARNING DISABILITY NURS...   \n",
       "24          24  200304410  PERSONAL STATEMENT OF LEARNING DISABILITY NURS...   \n",
       "25          25  200304410  PERSONAL STATEMENT OF LEARNING DISABILITY NURS...   \n",
       "26          26  200304410  PERSONAL STATEMENT OF LEARNING DISABILITY NURS...   \n",
       "27          27  200304410  PERSONAL STATEMENT OF LEARNING DISABILITY NURS...   \n",
       "28          28  200401637  The miracle that is pregnancy, creating a bran...   \n",
       "29          29  200503234  I would like to be considered as a candidate t...   \n",
       "\n",
       "                                           award_name award_classification  \n",
       "0       Diploma of Higher Education (Medical Science)                 PASS  \n",
       "1                                   Master of Science                 DIST  \n",
       "2                                   Master of Science                 DIST  \n",
       "3                                   Master of Science                 DIST  \n",
       "4                                   Master of Science                 DIST  \n",
       "5                                   Master of Science                MERIT  \n",
       "6                                   Master of Science                MERIT  \n",
       "7   Bachelor of Medicine and Bachelor of Surgery w...                 HONS  \n",
       "8                               Record of achievement               CRPASS  \n",
       "9                    Bachelor of Science with Honours                FIRST  \n",
       "10                   Bachelor of Science with Honours                FIRST  \n",
       "11                              Record of achievement               CRPASS  \n",
       "12                              Record of achievement               CRPASS  \n",
       "13                      Bachelor of Arts with Honours                FIRST  \n",
       "14                           Postgraduate Certificate                 PASS  \n",
       "15                      Bachelor of Arts with Honours                FIRST  \n",
       "16                      Bachelor of Arts with Honours                FIRST  \n",
       "17                             University Certificate                 PASS  \n",
       "18                   Bachelor of Science with Honours                  2:1  \n",
       "19                             University Certificate                 PASS  \n",
       "20                   Bachelor of Science with Honours                  2:1  \n",
       "21              Postgraduate Certificate in Education                 PASS  \n",
       "22                                     Master of Arts                 PASS  \n",
       "23                                     Master of Arts                 PASS  \n",
       "24                                     Master of Arts                 PASS  \n",
       "25                                     Master of Arts                 PASS  \n",
       "26                                     Master of Arts                 PASS  \n",
       "27                                     Master of Arts                 PASS  \n",
       "28                       Foundation Degree in Science                 DIST  \n",
       "29                             University Certificate                 PASS  "
      ]
     },
     "execution_count": 2,
     "metadata": {},
     "output_type": "execute_result"
    }
   ],
   "source": [
    "df = pd.read_csv(\"datasets.csv\")\n",
    "df.head(30)"
   ]
  },
  {
   "cell_type": "markdown",
   "id": "1124ed2c",
   "metadata": {},
   "source": [
    "## VIEW INFO ABOUT DATA AND CLEAN THE DATA"
   ]
  },
  {
   "cell_type": "code",
   "execution_count": 3,
   "id": "80f410ee",
   "metadata": {},
   "outputs": [
    {
     "data": {
      "text/plain": [
       "Index(['Unnamed: 0', 'studentID', 'personal_statement', 'award_name',\n",
       "       'award_classification'],\n",
       "      dtype='object')"
      ]
     },
     "execution_count": 3,
     "metadata": {},
     "output_type": "execute_result"
    }
   ],
   "source": [
    "df.columns"
   ]
  },
  {
   "cell_type": "code",
   "execution_count": 4,
   "id": "1bd894ac",
   "metadata": {},
   "outputs": [
    {
     "data": {
      "text/plain": [
       "(16769, 5)"
      ]
     },
     "execution_count": 4,
     "metadata": {},
     "output_type": "execute_result"
    }
   ],
   "source": [
    "# View size of data\n",
    "df.shape"
   ]
  },
  {
   "cell_type": "code",
   "execution_count": 5,
   "id": "38e32b92",
   "metadata": {},
   "outputs": [
    {
     "name": "stdout",
     "output_type": "stream",
     "text": [
      "<class 'pandas.core.frame.DataFrame'>\n",
      "RangeIndex: 16769 entries, 0 to 16768\n",
      "Data columns (total 5 columns):\n",
      " #   Column                Non-Null Count  Dtype \n",
      "---  ------                --------------  ----- \n",
      " 0   Unnamed: 0            16769 non-null  int64 \n",
      " 1   studentID             16769 non-null  int64 \n",
      " 2   personal_statement    16768 non-null  object\n",
      " 3   award_name            16769 non-null  object\n",
      " 4   award_classification  16769 non-null  object\n",
      "dtypes: int64(2), object(3)\n",
      "memory usage: 655.2+ KB\n"
     ]
    }
   ],
   "source": [
    "# view info about data, showing its null and non-null values\n",
    "\n",
    "df.info()"
   ]
  },
  {
   "cell_type": "code",
   "execution_count": 6,
   "id": "db989edb",
   "metadata": {},
   "outputs": [
    {
     "data": {
      "text/plain": [
       "Index(['Unnamed: 0', 'studentID', 'personal_statement', 'award_name',\n",
       "       'award_classification'],\n",
       "      dtype='object')"
      ]
     },
     "execution_count": 6,
     "metadata": {},
     "output_type": "execute_result"
    }
   ],
   "source": [
    "# from the info above, there is a column name Unnamed that isn't needed, so we drop it.\n",
    "\n",
    "df.columns"
   ]
  },
  {
   "cell_type": "code",
   "execution_count": 7,
   "id": "44b41dd3",
   "metadata": {},
   "outputs": [],
   "source": [
    "df.drop(columns=['Unnamed: 0'], inplace=True)"
   ]
  },
  {
   "cell_type": "code",
   "execution_count": 8,
   "id": "0f24aaab",
   "metadata": {},
   "outputs": [
    {
     "data": {
      "text/plain": [
       "Index(['studentID', 'personal_statement', 'award_name',\n",
       "       'award_classification'],\n",
       "      dtype='object')"
      ]
     },
     "execution_count": 8,
     "metadata": {},
     "output_type": "execute_result"
    }
   ],
   "source": [
    "df.columns"
   ]
  },
  {
   "cell_type": "code",
   "execution_count": 9,
   "id": "7b09c642",
   "metadata": {},
   "outputs": [
    {
     "data": {
      "text/html": [
       "<div>\n",
       "<style scoped>\n",
       "    .dataframe tbody tr th:only-of-type {\n",
       "        vertical-align: middle;\n",
       "    }\n",
       "\n",
       "    .dataframe tbody tr th {\n",
       "        vertical-align: top;\n",
       "    }\n",
       "\n",
       "    .dataframe thead th {\n",
       "        text-align: right;\n",
       "    }\n",
       "</style>\n",
       "<table border=\"1\" class=\"dataframe\">\n",
       "  <thead>\n",
       "    <tr style=\"text-align: right;\">\n",
       "      <th></th>\n",
       "      <th>studentID</th>\n",
       "      <th>personal_statement</th>\n",
       "      <th>award_name</th>\n",
       "      <th>award_classification</th>\n",
       "    </tr>\n",
       "  </thead>\n",
       "  <tbody>\n",
       "    <tr>\n",
       "      <th>0</th>\n",
       "      <td>130012955</td>\n",
       "      <td>In the UK, 1 in 5 people will suffer from depr...</td>\n",
       "      <td>Diploma of Higher Education (Medical Science)</td>\n",
       "      <td>PASS</td>\n",
       "    </tr>\n",
       "    <tr>\n",
       "      <th>1</th>\n",
       "      <td>170002792</td>\n",
       "      <td>It was an intriguing thought, that a stranger ...</td>\n",
       "      <td>Master of Science</td>\n",
       "      <td>DIST</td>\n",
       "    </tr>\n",
       "    <tr>\n",
       "      <th>2</th>\n",
       "      <td>170002792</td>\n",
       "      <td>It was an intriguing thought, that a stranger ...</td>\n",
       "      <td>Master of Science</td>\n",
       "      <td>DIST</td>\n",
       "    </tr>\n",
       "    <tr>\n",
       "      <th>3</th>\n",
       "      <td>170002792</td>\n",
       "      <td>It was an intriguing thought, that a stranger ...</td>\n",
       "      <td>Master of Science</td>\n",
       "      <td>DIST</td>\n",
       "    </tr>\n",
       "    <tr>\n",
       "      <th>4</th>\n",
       "      <td>170007122</td>\n",
       "      <td>When I was 7 years old, I visited Professor Gu...</td>\n",
       "      <td>Master of Science</td>\n",
       "      <td>DIST</td>\n",
       "    </tr>\n",
       "  </tbody>\n",
       "</table>\n",
       "</div>"
      ],
      "text/plain": [
       "   studentID                                 personal_statement  \\\n",
       "0  130012955  In the UK, 1 in 5 people will suffer from depr...   \n",
       "1  170002792  It was an intriguing thought, that a stranger ...   \n",
       "2  170002792  It was an intriguing thought, that a stranger ...   \n",
       "3  170002792  It was an intriguing thought, that a stranger ...   \n",
       "4  170007122  When I was 7 years old, I visited Professor Gu...   \n",
       "\n",
       "                                      award_name award_classification  \n",
       "0  Diploma of Higher Education (Medical Science)                 PASS  \n",
       "1                              Master of Science                 DIST  \n",
       "2                              Master of Science                 DIST  \n",
       "3                              Master of Science                 DIST  \n",
       "4                              Master of Science                 DIST  "
      ]
     },
     "execution_count": 9,
     "metadata": {},
     "output_type": "execute_result"
    }
   ],
   "source": [
    "# view data\n",
    "df.head()"
   ]
  },
  {
   "cell_type": "code",
   "execution_count": 10,
   "id": "6884abef",
   "metadata": {},
   "outputs": [
    {
     "data": {
      "text/plain": [
       "7395"
      ]
     },
     "execution_count": 10,
     "metadata": {},
     "output_type": "execute_result"
    }
   ],
   "source": [
    "# check for duplicates counts because there are duplicates.\n",
    "df.duplicated().sum()"
   ]
  },
  {
   "cell_type": "code",
   "execution_count": 11,
   "id": "b3322288",
   "metadata": {},
   "outputs": [
    {
     "data": {
      "text/plain": [
       "(9374, 4)"
      ]
     },
     "execution_count": 11,
     "metadata": {},
     "output_type": "execute_result"
    }
   ],
   "source": [
    "# drop all duplicates and leave only first occurance of data\n",
    "\n",
    "df = df.drop_duplicates(keep='first')\n",
    "df.shape"
   ]
  },
  {
   "cell_type": "code",
   "execution_count": 12,
   "id": "cba96f51",
   "metadata": {},
   "outputs": [
    {
     "data": {
      "text/plain": [
       "studentID               0\n",
       "personal_statement      1\n",
       "award_name              0\n",
       "award_classification    0\n",
       "dtype: int64"
      ]
     },
     "execution_count": 12,
     "metadata": {},
     "output_type": "execute_result"
    }
   ],
   "source": [
    "# Check for NaN values\n",
    "df.isnull().sum()"
   ]
  },
  {
   "cell_type": "code",
   "execution_count": 13,
   "id": "4d6b4a1a",
   "metadata": {},
   "outputs": [
    {
     "data": {
      "text/plain": [
       "True"
      ]
     },
     "execution_count": 13,
     "metadata": {},
     "output_type": "execute_result"
    }
   ],
   "source": [
    "df['personal_statement'].isnull().values.any()"
   ]
  },
  {
   "cell_type": "code",
   "execution_count": 14,
   "id": "2b0edb76",
   "metadata": {},
   "outputs": [
    {
     "data": {
      "text/html": [
       "<div>\n",
       "<style scoped>\n",
       "    .dataframe tbody tr th:only-of-type {\n",
       "        vertical-align: middle;\n",
       "    }\n",
       "\n",
       "    .dataframe tbody tr th {\n",
       "        vertical-align: top;\n",
       "    }\n",
       "\n",
       "    .dataframe thead th {\n",
       "        text-align: right;\n",
       "    }\n",
       "</style>\n",
       "<table border=\"1\" class=\"dataframe\">\n",
       "  <thead>\n",
       "    <tr style=\"text-align: right;\">\n",
       "      <th></th>\n",
       "      <th>studentID</th>\n",
       "      <th>personal_statement</th>\n",
       "      <th>award_name</th>\n",
       "      <th>award_classification</th>\n",
       "    </tr>\n",
       "  </thead>\n",
       "  <tbody>\n",
       "    <tr>\n",
       "      <th>8891</th>\n",
       "      <td>201803289</td>\n",
       "      <td>NaN</td>\n",
       "      <td>Bachelor of Science with Honours</td>\n",
       "      <td>2:1</td>\n",
       "    </tr>\n",
       "  </tbody>\n",
       "</table>\n",
       "</div>"
      ],
      "text/plain": [
       "      studentID personal_statement                        award_name  \\\n",
       "8891  201803289                NaN  Bachelor of Science with Honours   \n",
       "\n",
       "     award_classification  \n",
       "8891                  2:1  "
      ]
     },
     "execution_count": 14,
     "metadata": {},
     "output_type": "execute_result"
    }
   ],
   "source": [
    "df[df.isna().any(axis=1)]"
   ]
  },
  {
   "cell_type": "code",
   "execution_count": 15,
   "id": "81de0aad",
   "metadata": {},
   "outputs": [
    {
     "name": "stdout",
     "output_type": "stream",
     "text": [
      "Before dropping NA, shape is: (9374, 4)\n",
      "After dropping NA, shape is: (9373, 4)\n"
     ]
    }
   ],
   "source": [
    "# since the row has no personal statement, we can drop it.\n",
    "# NB: If there were many rows with no available personal statement, treating them differently will be better than dropping them.\n",
    "print(f'Before dropping NA, shape is: {df.shape}')\n",
    "df.dropna(inplace=True)\n",
    "print(f'After dropping NA, shape is: {df.shape}')"
   ]
  },
  {
   "cell_type": "code",
   "execution_count": 16,
   "id": "7a5978d4",
   "metadata": {},
   "outputs": [
    {
     "data": {
      "text/html": [
       "<div>\n",
       "<style scoped>\n",
       "    .dataframe tbody tr th:only-of-type {\n",
       "        vertical-align: middle;\n",
       "    }\n",
       "\n",
       "    .dataframe tbody tr th {\n",
       "        vertical-align: top;\n",
       "    }\n",
       "\n",
       "    .dataframe thead th {\n",
       "        text-align: right;\n",
       "    }\n",
       "</style>\n",
       "<table border=\"1\" class=\"dataframe\">\n",
       "  <thead>\n",
       "    <tr style=\"text-align: right;\">\n",
       "      <th></th>\n",
       "      <th>studentID</th>\n",
       "      <th>personal_statement</th>\n",
       "      <th>award_name</th>\n",
       "      <th>award_classification</th>\n",
       "    </tr>\n",
       "  </thead>\n",
       "  <tbody>\n",
       "    <tr>\n",
       "      <th>0</th>\n",
       "      <td>130012955</td>\n",
       "      <td>In the UK, 1 in 5 people will suffer from depr...</td>\n",
       "      <td>Diploma of Higher Education (Medical Science)</td>\n",
       "      <td>PASS</td>\n",
       "    </tr>\n",
       "    <tr>\n",
       "      <th>1</th>\n",
       "      <td>170002792</td>\n",
       "      <td>It was an intriguing thought, that a stranger ...</td>\n",
       "      <td>Master of Science</td>\n",
       "      <td>DIST</td>\n",
       "    </tr>\n",
       "    <tr>\n",
       "      <th>4</th>\n",
       "      <td>170007122</td>\n",
       "      <td>When I was 7 years old, I visited Professor Gu...</td>\n",
       "      <td>Master of Science</td>\n",
       "      <td>DIST</td>\n",
       "    </tr>\n",
       "    <tr>\n",
       "      <th>5</th>\n",
       "      <td>170008749</td>\n",
       "      <td>Medicine appealed to me, as it combines my int...</td>\n",
       "      <td>Master of Science</td>\n",
       "      <td>MERIT</td>\n",
       "    </tr>\n",
       "    <tr>\n",
       "      <th>6</th>\n",
       "      <td>170011945</td>\n",
       "      <td>I want to be a doctor to help people through p...</td>\n",
       "      <td>Master of Science</td>\n",
       "      <td>MERIT</td>\n",
       "    </tr>\n",
       "    <tr>\n",
       "      <th>7</th>\n",
       "      <td>170012676</td>\n",
       "      <td>From the early stages of my dental training I ...</td>\n",
       "      <td>Bachelor of Medicine and Bachelor of Surgery w...</td>\n",
       "      <td>HONS</td>\n",
       "    </tr>\n",
       "    <tr>\n",
       "      <th>8</th>\n",
       "      <td>19969003</td>\n",
       "      <td>-</td>\n",
       "      <td>Record of achievement</td>\n",
       "      <td>CRPASS</td>\n",
       "    </tr>\n",
       "    <tr>\n",
       "      <th>9</th>\n",
       "      <td>199921636</td>\n",
       "      <td>I am applying for the learning disability nurs...</td>\n",
       "      <td>Bachelor of Science with Honours</td>\n",
       "      <td>FIRST</td>\n",
       "    </tr>\n",
       "    <tr>\n",
       "      <th>11</th>\n",
       "      <td>199922311</td>\n",
       "      <td>I want to teach because I want to share my lov...</td>\n",
       "      <td>Record of achievement</td>\n",
       "      <td>CRPASS</td>\n",
       "    </tr>\n",
       "    <tr>\n",
       "      <th>12</th>\n",
       "      <td>199926834</td>\n",
       "      <td>Why I am applying for adult nursing: Working i...</td>\n",
       "      <td>Record of achievement</td>\n",
       "      <td>CRPASS</td>\n",
       "    </tr>\n",
       "  </tbody>\n",
       "</table>\n",
       "</div>"
      ],
      "text/plain": [
       "    studentID                                 personal_statement  \\\n",
       "0   130012955  In the UK, 1 in 5 people will suffer from depr...   \n",
       "1   170002792  It was an intriguing thought, that a stranger ...   \n",
       "4   170007122  When I was 7 years old, I visited Professor Gu...   \n",
       "5   170008749  Medicine appealed to me, as it combines my int...   \n",
       "6   170011945  I want to be a doctor to help people through p...   \n",
       "7   170012676  From the early stages of my dental training I ...   \n",
       "8    19969003                                                  -   \n",
       "9   199921636  I am applying for the learning disability nurs...   \n",
       "11  199922311  I want to teach because I want to share my lov...   \n",
       "12  199926834  Why I am applying for adult nursing: Working i...   \n",
       "\n",
       "                                           award_name award_classification  \n",
       "0       Diploma of Higher Education (Medical Science)                 PASS  \n",
       "1                                   Master of Science                 DIST  \n",
       "4                                   Master of Science                 DIST  \n",
       "5                                   Master of Science                MERIT  \n",
       "6                                   Master of Science                MERIT  \n",
       "7   Bachelor of Medicine and Bachelor of Surgery w...                 HONS  \n",
       "8                               Record of achievement               CRPASS  \n",
       "9                    Bachelor of Science with Honours                FIRST  \n",
       "11                              Record of achievement               CRPASS  \n",
       "12                              Record of achievement               CRPASS  "
      ]
     },
     "execution_count": 16,
     "metadata": {},
     "output_type": "execute_result"
    }
   ],
   "source": [
    "df.head(10)"
   ]
  },
  {
   "cell_type": "code",
   "execution_count": 17,
   "id": "567173d9",
   "metadata": {},
   "outputs": [
    {
     "data": {
      "text/plain": [
       "(5781, 4)"
      ]
     },
     "execution_count": 17,
     "metadata": {},
     "output_type": "execute_result"
    }
   ],
   "source": [
    "# Get data where award names containes 'Bachelor' irrespective of the bachelor type.\n",
    "df = df[df['award_name'].str.contains('Bachelor')]\n",
    "\n",
    "df.shape"
   ]
  },
  {
   "cell_type": "code",
   "execution_count": 18,
   "id": "6d9bb18f",
   "metadata": {},
   "outputs": [],
   "source": [
    "# Filter out HONS, MBPASS and ORD from the current data\n",
    "\n",
    "options = [\"FIRST\", \"2:1\", \"2:2\", \"THIRD\", \"PASS\"]\n",
    "df = df.loc[df['award_classification'].isin(options)]"
   ]
  },
  {
   "cell_type": "code",
   "execution_count": 19,
   "id": "9c450dab",
   "metadata": {},
   "outputs": [
    {
     "data": {
      "text/html": [
       "<div>\n",
       "<style scoped>\n",
       "    .dataframe tbody tr th:only-of-type {\n",
       "        vertical-align: middle;\n",
       "    }\n",
       "\n",
       "    .dataframe tbody tr th {\n",
       "        vertical-align: top;\n",
       "    }\n",
       "\n",
       "    .dataframe thead th {\n",
       "        text-align: right;\n",
       "    }\n",
       "</style>\n",
       "<table border=\"1\" class=\"dataframe\">\n",
       "  <thead>\n",
       "    <tr style=\"text-align: right;\">\n",
       "      <th></th>\n",
       "      <th>studentID</th>\n",
       "      <th>personal_statement</th>\n",
       "      <th>award_name</th>\n",
       "      <th>award_classification</th>\n",
       "    </tr>\n",
       "  </thead>\n",
       "  <tbody>\n",
       "    <tr>\n",
       "      <th>9</th>\n",
       "      <td>199921636</td>\n",
       "      <td>I am applying for the learning disability nurs...</td>\n",
       "      <td>Bachelor of Science with Honours</td>\n",
       "      <td>FIRST</td>\n",
       "    </tr>\n",
       "    <tr>\n",
       "      <th>13</th>\n",
       "      <td>200030551</td>\n",
       "      <td>I wish to apply to university this year as I w...</td>\n",
       "      <td>Bachelor of Arts with Honours</td>\n",
       "      <td>FIRST</td>\n",
       "    </tr>\n",
       "    <tr>\n",
       "      <th>15</th>\n",
       "      <td>200127457</td>\n",
       "      <td>I have worked in mainstream and special educat...</td>\n",
       "      <td>Bachelor of Arts with Honours</td>\n",
       "      <td>FIRST</td>\n",
       "    </tr>\n",
       "    <tr>\n",
       "      <th>16</th>\n",
       "      <td>200200708</td>\n",
       "      <td>At approximately six years old I remember sitt...</td>\n",
       "      <td>Bachelor of Arts with Honours</td>\n",
       "      <td>FIRST</td>\n",
       "    </tr>\n",
       "    <tr>\n",
       "      <th>18</th>\n",
       "      <td>200200788</td>\n",
       "      <td>When I left school in 1994, I knew I wanted a ...</td>\n",
       "      <td>Bachelor of Science with Honours</td>\n",
       "      <td>2:1</td>\n",
       "    </tr>\n",
       "    <tr>\n",
       "      <th>40</th>\n",
       "      <td>200512117</td>\n",
       "      <td>I have been looking forward to getting into te...</td>\n",
       "      <td>Bachelor of Arts with Honours</td>\n",
       "      <td>THIRD</td>\n",
       "    </tr>\n",
       "    <tr>\n",
       "      <th>42</th>\n",
       "      <td>200513035</td>\n",
       "      <td>Nursing, in my own perspective, is a diverse p...</td>\n",
       "      <td>Bachelor of Science with Honours</td>\n",
       "      <td>2:2</td>\n",
       "    </tr>\n",
       "    <tr>\n",
       "      <th>46</th>\n",
       "      <td>200610674</td>\n",
       "      <td>I am enthusiastic about the nursing profession...</td>\n",
       "      <td>Bachelor of Science with Honours</td>\n",
       "      <td>2:2</td>\n",
       "    </tr>\n",
       "    <tr>\n",
       "      <th>64</th>\n",
       "      <td>200878511</td>\n",
       "      <td>Nursing to me is an invaluable profession, whi...</td>\n",
       "      <td>Bachelor of Science with Honours</td>\n",
       "      <td>FIRST</td>\n",
       "    </tr>\n",
       "    <tr>\n",
       "      <th>74</th>\n",
       "      <td>200888939</td>\n",
       "      <td>The passion I have for nursing comes from witn...</td>\n",
       "      <td>Bachelor of Science with Honours</td>\n",
       "      <td>2:1</td>\n",
       "    </tr>\n",
       "  </tbody>\n",
       "</table>\n",
       "</div>"
      ],
      "text/plain": [
       "    studentID                                 personal_statement  \\\n",
       "9   199921636  I am applying for the learning disability nurs...   \n",
       "13  200030551  I wish to apply to university this year as I w...   \n",
       "15  200127457  I have worked in mainstream and special educat...   \n",
       "16  200200708  At approximately six years old I remember sitt...   \n",
       "18  200200788  When I left school in 1994, I knew I wanted a ...   \n",
       "40  200512117  I have been looking forward to getting into te...   \n",
       "42  200513035  Nursing, in my own perspective, is a diverse p...   \n",
       "46  200610674  I am enthusiastic about the nursing profession...   \n",
       "64  200878511  Nursing to me is an invaluable profession, whi...   \n",
       "74  200888939  The passion I have for nursing comes from witn...   \n",
       "\n",
       "                          award_name award_classification  \n",
       "9   Bachelor of Science with Honours                FIRST  \n",
       "13     Bachelor of Arts with Honours                FIRST  \n",
       "15     Bachelor of Arts with Honours                FIRST  \n",
       "16     Bachelor of Arts with Honours                FIRST  \n",
       "18  Bachelor of Science with Honours                  2:1  \n",
       "40     Bachelor of Arts with Honours                THIRD  \n",
       "42  Bachelor of Science with Honours                  2:2  \n",
       "46  Bachelor of Science with Honours                  2:2  \n",
       "64  Bachelor of Science with Honours                FIRST  \n",
       "74  Bachelor of Science with Honours                  2:1  "
      ]
     },
     "execution_count": 19,
     "metadata": {},
     "output_type": "execute_result"
    }
   ],
   "source": [
    "df.head(10)"
   ]
  },
  {
   "cell_type": "code",
   "execution_count": 20,
   "id": "f21d9a56",
   "metadata": {},
   "outputs": [
    {
     "data": {
      "text/plain": [
       "10"
      ]
     },
     "execution_count": 20,
     "metadata": {},
     "output_type": "execute_result"
    }
   ],
   "source": [
    "# Get all unique awards\n",
    "\n",
    "unique_awards = df['award_name'].unique()\n",
    "\n",
    "len(unique_awards)"
   ]
  },
  {
   "cell_type": "code",
   "execution_count": 21,
   "id": "0639b08c",
   "metadata": {},
   "outputs": [
    {
     "data": {
      "text/plain": [
       "array(['Bachelor of Science with Honours',\n",
       "       'Bachelor of Arts with Honours',\n",
       "       'Bachelor of Engineering with Honours',\n",
       "       'Bachelor of Laws with Honours',\n",
       "       'Bachelor of Education with Honours',\n",
       "       'Bachelor of Science (Economics) with Honours',\n",
       "       'Bachelor of Philosophy with Honours',\n",
       "       'Bachelor of Music with Honours', 'Bachelor of Arts',\n",
       "       'Bachelor of Business Administration with Honours'], dtype=object)"
      ]
     },
     "execution_count": 21,
     "metadata": {},
     "output_type": "execute_result"
    }
   ],
   "source": [
    "unique_awards"
   ]
  },
  {
   "cell_type": "code",
   "execution_count": 22,
   "id": "3c1354b0",
   "metadata": {},
   "outputs": [
    {
     "data": {
      "text/plain": [
       "5"
      ]
     },
     "execution_count": 22,
     "metadata": {},
     "output_type": "execute_result"
    }
   ],
   "source": [
    "# Get all unique awards_classification\n",
    "\n",
    "award_classification = df['award_classification'].unique()\n",
    "\n",
    "len(award_classification)"
   ]
  },
  {
   "cell_type": "code",
   "execution_count": 23,
   "id": "f56b4f83",
   "metadata": {},
   "outputs": [
    {
     "data": {
      "text/plain": [
       "array(['FIRST', '2:1', 'THIRD', '2:2', 'PASS'], dtype=object)"
      ]
     },
     "execution_count": 23,
     "metadata": {},
     "output_type": "execute_result"
    }
   ],
   "source": [
    "award_classification "
   ]
  },
  {
   "cell_type": "code",
   "execution_count": 24,
   "id": "e62e3cf3",
   "metadata": {},
   "outputs": [
    {
     "name": "stdout",
     "output_type": "stream",
     "text": [
      "<class 'pandas.core.frame.DataFrame'>\n",
      "Int64Index: 5700 entries, 9 to 16712\n",
      "Data columns (total 4 columns):\n",
      " #   Column                Non-Null Count  Dtype \n",
      "---  ------                --------------  ----- \n",
      " 0   studentID             5700 non-null   int64 \n",
      " 1   personal_statement    5700 non-null   object\n",
      " 2   award_name            5700 non-null   object\n",
      " 3   award_classification  5700 non-null   object\n",
      "dtypes: int64(1), object(3)\n",
      "memory usage: 222.7+ KB\n"
     ]
    }
   ],
   "source": [
    "df.info()"
   ]
  },
  {
   "cell_type": "markdown",
   "id": "7ee1b2e0",
   "metadata": {},
   "source": [
    "## 2. EXPLORATORY DATA ANALYSIS"
   ]
  },
  {
   "cell_type": "code",
   "execution_count": 25,
   "id": "53e96a1d",
   "metadata": {},
   "outputs": [
    {
     "data": {
      "text/plain": [
       "Bachelor of Science with Honours                    2597\n",
       "Bachelor of Arts with Honours                       2497\n",
       "Bachelor of Engineering with Honours                 319\n",
       "Bachelor of Laws with Honours                        247\n",
       "Bachelor of Education with Honours                    12\n",
       "Bachelor of Music with Honours                        12\n",
       "Bachelor of Philosophy with Honours                   11\n",
       "Bachelor of Arts                                       2\n",
       "Bachelor of Business Administration with Honours       2\n",
       "Bachelor of Science (Economics) with Honours           1\n",
       "Name: award_name, dtype: int64"
      ]
     },
     "execution_count": 25,
     "metadata": {},
     "output_type": "execute_result"
    }
   ],
   "source": [
    "# Knowing frequencies of award\n",
    "\n",
    "df['award_name'].value_counts()"
   ]
  },
  {
   "cell_type": "code",
   "execution_count": 26,
   "id": "f2d97074",
   "metadata": {},
   "outputs": [
    {
     "data": {
      "text/plain": [
       "2:1      2652\n",
       "FIRST    1908\n",
       "2:2      1012\n",
       "THIRD     126\n",
       "PASS        2\n",
       "Name: award_classification, dtype: int64"
      ]
     },
     "execution_count": 26,
     "metadata": {},
     "output_type": "execute_result"
    }
   ],
   "source": [
    "# Knowing frequencies of award classification\n",
    "\n",
    "df['award_classification'].value_counts()"
   ]
  },
  {
   "cell_type": "code",
   "execution_count": 27,
   "id": "d8514aba",
   "metadata": {},
   "outputs": [
    {
     "data": {
      "text/html": [
       "<div>\n",
       "<style scoped>\n",
       "    .dataframe tbody tr th:only-of-type {\n",
       "        vertical-align: middle;\n",
       "    }\n",
       "\n",
       "    .dataframe tbody tr th {\n",
       "        vertical-align: top;\n",
       "    }\n",
       "\n",
       "    .dataframe thead th {\n",
       "        text-align: right;\n",
       "    }\n",
       "</style>\n",
       "<table border=\"1\" class=\"dataframe\">\n",
       "  <thead>\n",
       "    <tr style=\"text-align: right;\">\n",
       "      <th></th>\n",
       "      <th>studentID</th>\n",
       "      <th>personal_statement</th>\n",
       "      <th>award_name</th>\n",
       "      <th>award_classification</th>\n",
       "    </tr>\n",
       "  </thead>\n",
       "  <tbody>\n",
       "    <tr>\n",
       "      <th>9</th>\n",
       "      <td>199921636</td>\n",
       "      <td>I am applying for the learning disability nurs...</td>\n",
       "      <td>Bachelor of Science with Honours</td>\n",
       "      <td>2</td>\n",
       "    </tr>\n",
       "    <tr>\n",
       "      <th>13</th>\n",
       "      <td>200030551</td>\n",
       "      <td>I wish to apply to university this year as I w...</td>\n",
       "      <td>Bachelor of Arts with Honours</td>\n",
       "      <td>2</td>\n",
       "    </tr>\n",
       "    <tr>\n",
       "      <th>15</th>\n",
       "      <td>200127457</td>\n",
       "      <td>I have worked in mainstream and special educat...</td>\n",
       "      <td>Bachelor of Arts with Honours</td>\n",
       "      <td>2</td>\n",
       "    </tr>\n",
       "    <tr>\n",
       "      <th>16</th>\n",
       "      <td>200200708</td>\n",
       "      <td>At approximately six years old I remember sitt...</td>\n",
       "      <td>Bachelor of Arts with Honours</td>\n",
       "      <td>2</td>\n",
       "    </tr>\n",
       "    <tr>\n",
       "      <th>18</th>\n",
       "      <td>200200788</td>\n",
       "      <td>When I left school in 1994, I knew I wanted a ...</td>\n",
       "      <td>Bachelor of Science with Honours</td>\n",
       "      <td>0</td>\n",
       "    </tr>\n",
       "    <tr>\n",
       "      <th>40</th>\n",
       "      <td>200512117</td>\n",
       "      <td>I have been looking forward to getting into te...</td>\n",
       "      <td>Bachelor of Arts with Honours</td>\n",
       "      <td>4</td>\n",
       "    </tr>\n",
       "    <tr>\n",
       "      <th>42</th>\n",
       "      <td>200513035</td>\n",
       "      <td>Nursing, in my own perspective, is a diverse p...</td>\n",
       "      <td>Bachelor of Science with Honours</td>\n",
       "      <td>1</td>\n",
       "    </tr>\n",
       "    <tr>\n",
       "      <th>46</th>\n",
       "      <td>200610674</td>\n",
       "      <td>I am enthusiastic about the nursing profession...</td>\n",
       "      <td>Bachelor of Science with Honours</td>\n",
       "      <td>1</td>\n",
       "    </tr>\n",
       "    <tr>\n",
       "      <th>64</th>\n",
       "      <td>200878511</td>\n",
       "      <td>Nursing to me is an invaluable profession, whi...</td>\n",
       "      <td>Bachelor of Science with Honours</td>\n",
       "      <td>2</td>\n",
       "    </tr>\n",
       "    <tr>\n",
       "      <th>74</th>\n",
       "      <td>200888939</td>\n",
       "      <td>The passion I have for nursing comes from witn...</td>\n",
       "      <td>Bachelor of Science with Honours</td>\n",
       "      <td>0</td>\n",
       "    </tr>\n",
       "    <tr>\n",
       "      <th>80</th>\n",
       "      <td>200890767</td>\n",
       "      <td>I am a very hard working and enthusiastic pers...</td>\n",
       "      <td>Bachelor of Science with Honours</td>\n",
       "      <td>1</td>\n",
       "    </tr>\n",
       "    <tr>\n",
       "      <th>82</th>\n",
       "      <td>200900717</td>\n",
       "      <td>Over 13 years' experience working with childre...</td>\n",
       "      <td>Bachelor of Arts with Honours</td>\n",
       "      <td>1</td>\n",
       "    </tr>\n",
       "    <tr>\n",
       "      <th>85</th>\n",
       "      <td>200906591</td>\n",
       "      <td>Having graduated last year, I have come to the...</td>\n",
       "      <td>Bachelor of Science with Honours</td>\n",
       "      <td>0</td>\n",
       "    </tr>\n",
       "    <tr>\n",
       "      <th>95</th>\n",
       "      <td>200912488</td>\n",
       "      <td>Good mental health is believed by many to be a...</td>\n",
       "      <td>Bachelor of Science with Honours</td>\n",
       "      <td>0</td>\n",
       "    </tr>\n",
       "    <tr>\n",
       "      <th>104</th>\n",
       "      <td>201003458</td>\n",
       "      <td>I am extremely interested in the nursing field...</td>\n",
       "      <td>Bachelor of Science with Honours</td>\n",
       "      <td>2</td>\n",
       "    </tr>\n",
       "    <tr>\n",
       "      <th>106</th>\n",
       "      <td>201004587</td>\n",
       "      <td>I am a mature student currently undertaking a ...</td>\n",
       "      <td>Bachelor of Arts with Honours</td>\n",
       "      <td>1</td>\n",
       "    </tr>\n",
       "    <tr>\n",
       "      <th>121</th>\n",
       "      <td>201015780</td>\n",
       "      <td>My journey into a caring role started in June ...</td>\n",
       "      <td>Bachelor of Science with Honours</td>\n",
       "      <td>1</td>\n",
       "    </tr>\n",
       "    <tr>\n",
       "      <th>128</th>\n",
       "      <td>201102177</td>\n",
       "      <td>In this brief summary I hope to illustrate tha...</td>\n",
       "      <td>Bachelor of Science with Honours</td>\n",
       "      <td>1</td>\n",
       "    </tr>\n",
       "    <tr>\n",
       "      <th>135</th>\n",
       "      <td>201107550</td>\n",
       "      <td>Upon researching social working I came across ...</td>\n",
       "      <td>Bachelor of Arts with Honours</td>\n",
       "      <td>0</td>\n",
       "    </tr>\n",
       "    <tr>\n",
       "      <th>145</th>\n",
       "      <td>201111967</td>\n",
       "      <td>I am applying for a place at the University of...</td>\n",
       "      <td>Bachelor of Arts with Honours</td>\n",
       "      <td>1</td>\n",
       "    </tr>\n",
       "  </tbody>\n",
       "</table>\n",
       "</div>"
      ],
      "text/plain": [
       "     studentID                                 personal_statement  \\\n",
       "9    199921636  I am applying for the learning disability nurs...   \n",
       "13   200030551  I wish to apply to university this year as I w...   \n",
       "15   200127457  I have worked in mainstream and special educat...   \n",
       "16   200200708  At approximately six years old I remember sitt...   \n",
       "18   200200788  When I left school in 1994, I knew I wanted a ...   \n",
       "40   200512117  I have been looking forward to getting into te...   \n",
       "42   200513035  Nursing, in my own perspective, is a diverse p...   \n",
       "46   200610674  I am enthusiastic about the nursing profession...   \n",
       "64   200878511  Nursing to me is an invaluable profession, whi...   \n",
       "74   200888939  The passion I have for nursing comes from witn...   \n",
       "80   200890767  I am a very hard working and enthusiastic pers...   \n",
       "82   200900717  Over 13 years' experience working with childre...   \n",
       "85   200906591  Having graduated last year, I have come to the...   \n",
       "95   200912488  Good mental health is believed by many to be a...   \n",
       "104  201003458  I am extremely interested in the nursing field...   \n",
       "106  201004587  I am a mature student currently undertaking a ...   \n",
       "121  201015780  My journey into a caring role started in June ...   \n",
       "128  201102177  In this brief summary I hope to illustrate tha...   \n",
       "135  201107550  Upon researching social working I came across ...   \n",
       "145  201111967  I am applying for a place at the University of...   \n",
       "\n",
       "                           award_name  award_classification  \n",
       "9    Bachelor of Science with Honours                     2  \n",
       "13      Bachelor of Arts with Honours                     2  \n",
       "15      Bachelor of Arts with Honours                     2  \n",
       "16      Bachelor of Arts with Honours                     2  \n",
       "18   Bachelor of Science with Honours                     0  \n",
       "40      Bachelor of Arts with Honours                     4  \n",
       "42   Bachelor of Science with Honours                     1  \n",
       "46   Bachelor of Science with Honours                     1  \n",
       "64   Bachelor of Science with Honours                     2  \n",
       "74   Bachelor of Science with Honours                     0  \n",
       "80   Bachelor of Science with Honours                     1  \n",
       "82      Bachelor of Arts with Honours                     1  \n",
       "85   Bachelor of Science with Honours                     0  \n",
       "95   Bachelor of Science with Honours                     0  \n",
       "104  Bachelor of Science with Honours                     2  \n",
       "106     Bachelor of Arts with Honours                     1  \n",
       "121  Bachelor of Science with Honours                     1  \n",
       "128  Bachelor of Science with Honours                     1  \n",
       "135     Bachelor of Arts with Honours                     0  \n",
       "145     Bachelor of Arts with Honours                     1  "
      ]
     },
     "execution_count": 27,
     "metadata": {},
     "output_type": "execute_result"
    }
   ],
   "source": [
    "# Encoding the data labels to numerical category\n",
    "# Encode target labels with value between 0 and n_classes-1.\n",
    "# This transformer should be used to encode target values, i.e. y, and not the input X = text\n",
    "\n",
    "from sklearn.preprocessing import LabelEncoder\n",
    "encoder = LabelEncoder()\n",
    "encoded_target = encoder.fit_transform(df['award_classification'])\n",
    "df['award_classification'] = encoder.fit_transform(df['award_classification'])\n",
    "# encoded_target[:50]\n",
    "df.head(20)"
   ]
  },
  {
   "cell_type": "code",
   "execution_count": null,
   "id": "5dde4fcd",
   "metadata": {},
   "outputs": [],
   "source": []
  },
  {
   "cell_type": "code",
   "execution_count": 28,
   "id": "4f21df87",
   "metadata": {},
   "outputs": [
    {
     "ename": "SyntaxError",
     "evalue": "unexpected EOF while parsing (3791832200.py, line 4)",
     "output_type": "error",
     "traceback": [
      "\u001b[0;36m  File \u001b[0;32m\"/tmp/ipykernel_15288/3791832200.py\"\u001b[0;36m, line \u001b[0;32m4\u001b[0m\n\u001b[0;31m    plt.show(\u001b[0m\n\u001b[0m             ^\u001b[0m\n\u001b[0;31mSyntaxError\u001b[0m\u001b[0;31m:\u001b[0m unexpected EOF while parsing\n"
     ]
    }
   ],
   "source": [
    "import matplotlib.pyplot as plt\n",
    "plt.rcParams[\"figure.figsize\"] = (10,8)\n",
    "plt.pie(df['award_classification'].value_counts(), labels=['FIRST', '2:1','2:2','THIRD','ORD', 'PASS','HONS','MBPASS'], autopct=\"%0.2f\")\n",
    "plt.show("
   ]
  }
 ],
 "metadata": {
  "kernelspec": {
   "display_name": "Python 3 (ipykernel)",
   "language": "python",
   "name": "python3"
  },
  "language_info": {
   "codemirror_mode": {
    "name": "ipython",
    "version": 3
   },
   "file_extension": ".py",
   "mimetype": "text/x-python",
   "name": "python",
   "nbconvert_exporter": "python",
   "pygments_lexer": "ipython3",
   "version": "3.7.5"
  }
 },
 "nbformat": 4,
 "nbformat_minor": 5
}
